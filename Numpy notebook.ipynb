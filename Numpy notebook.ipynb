{
 "cells": [
  {
   "cell_type": "markdown",
   "id": "a91dde6d",
   "metadata": {},
   "source": [
    "# To check the numpy version"
   ]
  },
  {
   "cell_type": "code",
   "execution_count": null,
   "id": "ed0a4505",
   "metadata": {},
   "outputs": [],
   "source": [
    "import numpy as np\n",
    "print(np.__version__)"
   ]
  },
  {
   "cell_type": "markdown",
   "id": "fa06d1c8",
   "metadata": {},
   "source": [
    "## Numpy operation for 1D array"
   ]
  },
  {
   "cell_type": "code",
   "execution_count": null,
   "id": "c80fbb9b",
   "metadata": {},
   "outputs": [],
   "source": [
    "import numpy as np\n",
    "\n",
    "#1D Array\n",
    "arr=[1,2,3,4,5,6]\n",
    "print(\"original array=\",arr)\n",
    "a=np.array(arr)\n",
    "print(\"np array=\",a)\n",
    "print('-'*100)\n",
    "\n",
    "\n",
    "#For 1d arrays np.shape returns(x,) it is nto coneventional shape format np.shape=(x,) x means indicating for 1 diemnsional arrays\n",
    "print(\"np array shape=\",a.shape)\n",
    "print('-'*100)\n",
    "\n",
    "print(\"np array size=\",a.size)\n",
    "print('-'*100)\n",
    "\n",
    "print(\"np array type=\",type(a))\n",
    "print('-'*100)\n",
    "\n",
    "#To iterate around  a array\n",
    "for i  in range(a.size):\n",
    "    print(\"the elements in the np array=\",a[i])\n",
    "    print('-'*100)\n",
    "\n",
    "\n",
    "#Slicinng opeartions\n",
    "arr = np.array([1, 2, 3, 4, 5, 6, 7])\n",
    "print(\"given array\",arr)\n",
    "#To verify some basic operation for the slicing\n",
    "#To Slice elements from index 4 to the end of the array:\n",
    "print(arr[4:])\n",
    "#Slice elements from the beginning to index 4 (not included):\n",
    "print(arr[:4])"
   ]
  },
  {
   "cell_type": "markdown",
   "id": "30bbd078",
   "metadata": {},
   "source": [
    "## Numpy operations on 2D arrays"
   ]
  },
  {
   "cell_type": "code",
   "execution_count": null,
   "id": "c7e793e1",
   "metadata": {},
   "outputs": [],
   "source": [
    "import numpy as np\n",
    "\n",
    "arr=[[1,2,3],[4,5,6]]\n",
    "print(\"array in orignal from=\",arr)\n",
    "print('-'*100)\n",
    "print(\"the first element in arr=\",arr[0])\n",
    "print('-'*100)\n",
    "print(\"the second element in arr=\",arr[1])\n",
    "print('-'*100)\n",
    "print(\"the first sample in first element=\",arr[0][0])\n",
    "print('-'*100)\n",
    "\n",
    "a=np.array(arr)\n",
    "print(\"in np array=\",a)\n",
    "print('-'*100)\n",
    "print(\"np array shape=\",a.shape)\n",
    "print('-'*100)\n",
    "print(\"np array size=\",a.size)\n",
    "print('-'*100)\n",
    "\n",
    "#Indexing 2d arrays using conevntional method\n",
    "for i in range(a.shape[0]):\n",
    "    for j in range(a.shape[1]):\n",
    "        print(a[i][j])\n",
    "        print('-'*100)\n",
    "        \n",
    "#Indexing 2d arrays in numpy style\n",
    "for i in range(a.shape[0]):\n",
    "    for j in range(a.shape[1]):\n",
    "        print(a[i,j])\n",
    "        print('-'*100)\n",
    "\n",
    "\n",
    "#axis=0 runs vertically,#axis=1 runs horizontally acrossss numpy arrays\n",
    "print(\"sum of np array with axis=0\",np.sum(a,axis=0))\n",
    "print('-'*100)\n",
    "print(\"sum of np array with axis=1\",np.sum(a,axis=1))\n",
    "print('-'*100)\n",
    "\n",
    "\n",
    "#Slciing operations in 2d arrays\n",
    "arr = np.array([[1, 2, 3, 4, 5], [6, 7, 8, 9, 10]])\n",
    "print(arr)\n",
    "print('-'*100)\n",
    "#a[i,j] i represents row and j represents column\n",
    "#Slice first row until 3r columsn included\n",
    "print(arr[0,0:4])\n",
    "print('-'*100)"
   ]
  },
  {
   "cell_type": "markdown",
   "id": "6f39171d",
   "metadata": {},
   "source": [
    "## Numpy operations on 3D Arrays"
   ]
  },
  {
   "cell_type": "code",
   "execution_count": null,
   "id": "0ebf9335",
   "metadata": {},
   "outputs": [],
   "source": [
    "import numpy as np\n",
    "\n",
    "\n",
    "\n",
    "arr = np.array([[[1, 2, 3], [4, 5, 6]], [[7, 8, 9], [10, 11, 12]]])\n",
    "print(\"np 3 d array=\",arr)\n",
    "\n",
    "#Basic opeartions np.shape, np.size \n",
    "a=np.array(arr)\n",
    "print(\"np array=\",a)\n",
    "print('-'*100)\n",
    "\n",
    "#np.shape for 3d array providess contains no_of_layers, no of_rows, and no of_columns.\n",
    "print(\"np array shape conatins no_of_layers, no of_rows, and no of_columns.=\",a.shape)\n",
    "print('-'*100)\n",
    "\n",
    "print(\"np array size=\",a.size)\n",
    "print('-'*100)\n",
    "\n",
    "\n",
    "#Basic Indexing:\n",
    "print(\"first layer of 3d array=\",a[0])\n",
    "print('-'*100)\n",
    "print(\"second layer of 3d array=\",a[1])\n",
    "print('-'*100)\n",
    "\n",
    "\n",
    "\n",
    "#Indexing eleemnst in for 3d arrays:\n",
    "for i in range(a.shape[0]):                    #a.shape[0]= no_of_layers\n",
    "    for j in range(a.shape[1]):                #a.shape[1]= no_of_rows\n",
    "        for k in range(a.shape[2]):            #a.shape[2]= no_of_columns\n",
    "            print(a[i,j,k])\n",
    "            print('-'*100)\n",
    "\n",
    "\n",
    "            \n",
    "\n",
    "#Slcing opeartions, #a[i,j,k] i-no of layers, j- no of rows, k- no of columns\n",
    "arr = np.array([[[1, 2, 3], [4, 5, 6]], [[7, 8, 9], [10, 11, 12]]])\n",
    "print(arr)\n",
    "print('-'*100)\n",
    "\n",
    "\n",
    "#Slice 1 st layer 1,2,4,5 elements\n",
    "print(arr[0,0:,0:2])\n",
    "print('-'*100)\n"
   ]
  },
  {
   "cell_type": "markdown",
   "id": "771e1edf",
   "metadata": {},
   "source": [
    "## Concatenation operation on np arrays"
   ]
  },
  {
   "cell_type": "code",
   "execution_count": null,
   "id": "cd5e940e",
   "metadata": {},
   "outputs": [],
   "source": [
    "import numpy as np\n",
    "\n",
    "#Basic array definition\n",
    "arr1 = np.array([1, 2, 3])\n",
    "arr2 = np.array([4, 5, 6])\n",
    "arr = np.concatenate((arr1, arr2))\n",
    "print(\"concatenated array=\",arr)\n",
    "print('-'*100)\n",
    "\n",
    "#concatenate along axis=0 (running vertically)\n",
    "arr1 = np.array([[1, 2], [3, 4]])\n",
    "arr2 = np.array([[5, 6], [7, 8]])\n",
    "arr = np.concatenate((arr1, arr2),axis=0)\n",
    "print(\"concateantion along axis 0=\",arr)\n",
    "print('-'*100)\n",
    "\n",
    "#concatenate along axis=1\n",
    "arr1 = np.array([[1, 2], [3, 4]])\n",
    "arr2 = np.array([[5, 6], [7, 8]])\n",
    "arr = np.concatenate((arr1, arr2),axis=1)\n",
    "print(\"concateantion along axis 1=\",arr)\n",
    "print('-'*100)\n",
    "\n",
    "\n",
    "\n"
   ]
  },
  {
   "cell_type": "markdown",
   "id": "4e22d533",
   "metadata": {},
   "source": [
    "## Sorting operations for np arrays"
   ]
  },
  {
   "cell_type": "code",
   "execution_count": null,
   "id": "01a64642",
   "metadata": {},
   "outputs": [],
   "source": [
    "import numpy as np\n",
    "\n",
    "#Basic array definition\n",
    "arr = np.array([3, 2, 0, 1])\n",
    "print(\"oriignal form=\",arr)\n",
    "print('-'*100)\n",
    "print(\"soretd array=\",np.sort(arr))\n",
    "print('-'*100)\n",
    "\n",
    "\n",
    "#Using np.newaxis will increase the dimensions of your array by one dimension when used once. \n",
    "#This means that a 1D array will become a 2D array,\n",
    "a = np.array([1, 2, 3])\n",
    "print(\"original shape=\",a.shape)\n",
    "print('-'*100)\n",
    "a2 = a[np.newaxis, :]\n",
    "print(a2)\n",
    "print(\"newly added sahpe=\",a2.shape)\n",
    "print('-'*100)\n",
    "\n",
    "\n",
    "\n"
   ]
  },
  {
   "cell_type": "markdown",
   "id": "2ce306ee",
   "metadata": {},
   "source": [
    "## Flatten operations for np arrays"
   ]
  },
  {
   "cell_type": "code",
   "execution_count": null,
   "id": "cfd2238b",
   "metadata": {},
   "outputs": [],
   "source": [
    "import numpy as np\n",
    "\n",
    "x = np.array([[1 , 2, 3, 4], [5, 6, 7, 8], [9, 10, 11, 12]])\n",
    "print(\"original np array=\",x)\n",
    "print('-'*100)\n",
    "print(\"falttened array=\",x.flatten())\n",
    "print('-'*100)\n"
   ]
  },
  {
   "cell_type": "markdown",
   "id": "4b56f02b",
   "metadata": {},
   "source": [
    "## np.zeros() for different dimensional arrays"
   ]
  },
  {
   "cell_type": "code",
   "execution_count": null,
   "id": "185da108",
   "metadata": {},
   "outputs": [],
   "source": [
    "import numpy as np\n",
    "\n",
    "z=np.zeros(1)\n",
    "print(\"1d np zeros array=\",z)\n",
    "print('-'*100)\n",
    "print(\"1d np zeros array=\",z.shape)\n",
    "print('-'*100)\n",
    "\n",
    "z=np.zeros([2,2])\n",
    "print(\"2d np zeros array=\",z)\n",
    "print('-'*100)\n",
    "print(\"2d np zeros array=\",z.shape)\n",
    "print('-'*100)\n",
    "\n",
    "z=np.zeros([4,2,2]) #x--layers, y--rows and z--columns\n",
    "print(\"3d np zeros array=\",z)\n",
    "print('-'*100)\n",
    "print(\"3d np zeros array=\",z.shape)\n",
    "print('-'*100)\n",
    "\n",
    "\n",
    "z=np.zeros([2,4,2,2]) #w--layers, x--layers, y--rows and z--columns\n",
    "print(\"4d np zeros array=\",z)\n",
    "print('-'*100)\n",
    "print(\"4d np zeros array=\",z.shape)\n",
    "print('-'*100)\n"
   ]
  },
  {
   "cell_type": "markdown",
   "id": "4f95cb1a",
   "metadata": {},
   "source": [
    "## Numpy opeartion on 4D arrays"
   ]
  },
  {
   "cell_type": "code",
   "execution_count": null,
   "id": "3c3df861",
   "metadata": {},
   "outputs": [],
   "source": [
    "import numpy as np\n",
    "\n",
    "\n",
    "#Basic operations\n",
    "arr=np.zeros([2,4,2,2]) #a--outer layer, #b--inner layer, #c--no of rows, #d-- no of columns\n",
    "print(\"np arrays for 4 dimensional arrays=\",arr)\n",
    "print('-'*100)\n",
    "print(\"the array shape represents #no of outer layers,#no of inner layer,#no of rows, #no of columns=\",arr.shape)\n",
    "print('-'*100)\n",
    "print('array size=',arr.size)\n",
    "print('-'*100)\n",
    "\n",
    "#Array indexing conevntional method\n",
    "for i in range(arr.shape[0]):                #arr.shape[0]--outer layer\n",
    "    for j in range(arr.shape[1]):            #arr.shape[1]--inner layer\n",
    "        for k in range(arr.shape[2]):        #arr.shape[2]--no of rows\n",
    "            for l in range(arr.shape[3]):    #arr.shape[3]--no of columns\n",
    "                print(\"array element at  position i=%d,j=%d,k=%d,l=%d is = %d\" % (i,j,k,l,arr[i][j][k][l]))\n",
    "                print('-'*100)\n",
    "\n",
    "                \n",
    "\n",
    "#Array indexing for np.arr() of 4D\n",
    "for i in range(arr.shape[0]):                #arr.shape[0]--outer layer\n",
    "    for j in range(arr.shape[1]):            #arr.shape[1]--inner layer\n",
    "        for k in range(arr.shape[2]):        #arr.shape[2]--no of rows\n",
    "            for l in range(arr.shape[3]):    #arr.shape[3]--no of columns\n",
    "                print(\"array element at  position i=%d,j=%d,k=%d,l=%d is = %d\" % (i,j,k,l,arr[i,j,k,l]))\n",
    "                print('-'*100)\n",
    "\n",
    "            \n",
    "            \n",
    "            \n",
    "\n",
    "                \n",
    "\n",
    "                \n",
    "\n",
    "            "
   ]
  },
  {
   "cell_type": "markdown",
   "id": "c044cdb3",
   "metadata": {},
   "source": [
    "## List comprehension and its syntax"
   ]
  },
  {
   "cell_type": "code",
   "execution_count": 3,
   "id": "d78859ec",
   "metadata": {},
   "outputs": [
    {
     "name": "stdout",
     "output_type": "stream",
     "text": [
      "basic list= [1, 2, 3]\n",
      "----------------------------------------------------------------------------------------------------\n",
      "added 1 to the elements of a= [2, 3, 4]\n",
      "----------------------------------------------------------------------------------------------------\n"
     ]
    }
   ],
   "source": [
    "a=[1,2,3]\n",
    "print(\"basic list=\",a)\n",
    "print('-'*100)\n",
    "\n",
    "#List comprehension syntax [expression for item in list]\n",
    "x=[x+1 for x in a]\n",
    "print(\"added 1 to the elements of a=\",x)\n",
    "print('-'*100)\n"
   ]
  },
  {
   "cell_type": "markdown",
   "id": "c14c25f4",
   "metadata": {},
   "source": [
    "## lambda operations and its syntax"
   ]
  },
  {
   "cell_type": "code",
   "execution_count": 21,
   "id": "2c9e95d0",
   "metadata": {},
   "outputs": [
    {
     "name": "stdout",
     "output_type": "stream",
     "text": [
      "array in orignal from= [[1, 2, 3], [4, 5, 6]]\n",
      "----------------------------------------------------------------------------------------------------\n",
      "array shape= (2, 3)\n"
     ]
    }
   ],
   "source": [
    "# Syntax lambda arguments : expression\n",
    "\n",
    "# x = lambda a : a + 10\n",
    "# print(x(5))\n",
    "\n",
    "import numpy as np\n",
    "\n",
    "arr=[[1,2,3],[4,5,6]]\n",
    "print(\"array in orignal from=\",arr)\n",
    "print('-'*100)\n",
    "\n",
    "arr=np.array(arr)\n",
    "\n",
    "#Print the shape of array using lambda\n",
    "x=lambda val:arr.shape\n",
    "print(\"array shape=\",x(arr))\n",
    "\n"
   ]
  },
  {
   "cell_type": "markdown",
   "id": "7a3fc7ce",
   "metadata": {},
   "source": [
    "## map() function"
   ]
  },
  {
   "cell_type": "code",
   "execution_count": 25,
   "id": "a92a817c",
   "metadata": {},
   "outputs": [
    {
     "name": "stdout",
     "output_type": "stream",
     "text": [
      "result in form of map= <map object at 0x00000224E349DEE0>\n",
      "----------------------------------------------------------------------------------------------------\n",
      "result in form of list= [2, 4, 6, 8]\n",
      "----------------------------------------------------------------------------------------------------\n"
     ]
    }
   ],
   "source": [
    "#map() function returns a map object(which is an iterator) of the results after applying the given function \n",
    "#to each item of a given iterable (list, tuple etc.)\n",
    "\n",
    "#Syntax : map(fun, iter)\n",
    "\n",
    "numbers = (1, 2, 3, 4)\n",
    "result = map(lambda x: x + x, numbers)\n",
    "print(\"result in form of map=\",result)\n",
    "print('-'*100)\n",
    "print(\"result in form of list=\",list(result))\n",
    "print('-'*100)"
   ]
  },
  {
   "cell_type": "code",
   "execution_count": null,
   "id": "ee822d70",
   "metadata": {},
   "outputs": [],
   "source": []
  },
  {
   "cell_type": "code",
   "execution_count": null,
   "id": "01452e1b",
   "metadata": {},
   "outputs": [],
   "source": []
  },
  {
   "cell_type": "code",
   "execution_count": null,
   "id": "9456a41a",
   "metadata": {},
   "outputs": [],
   "source": []
  },
  {
   "cell_type": "code",
   "execution_count": null,
   "id": "06a6fb76",
   "metadata": {},
   "outputs": [],
   "source": []
  },
  {
   "cell_type": "code",
   "execution_count": null,
   "id": "3934d5bc",
   "metadata": {},
   "outputs": [],
   "source": []
  },
  {
   "cell_type": "code",
   "execution_count": null,
   "id": "b9027f96",
   "metadata": {},
   "outputs": [],
   "source": []
  },
  {
   "cell_type": "code",
   "execution_count": null,
   "id": "9aa60f79",
   "metadata": {},
   "outputs": [],
   "source": []
  }
 ],
 "metadata": {
  "kernelspec": {
   "display_name": "Python 3",
   "language": "python",
   "name": "python3"
  },
  "language_info": {
   "codemirror_mode": {
    "name": "ipython",
    "version": 3
   },
   "file_extension": ".py",
   "mimetype": "text/x-python",
   "name": "python",
   "nbconvert_exporter": "python",
   "pygments_lexer": "ipython3",
   "version": "3.8.8"
  }
 },
 "nbformat": 4,
 "nbformat_minor": 5
}
