{
 "cells": [
  {
   "cell_type": "markdown",
   "id": "82010750",
   "metadata": {},
   "source": [
    "# To check the numpy version"
   ]
  },
  {
   "cell_type": "code",
   "execution_count": null,
   "id": "88ea5a38",
   "metadata": {},
   "outputs": [],
   "source": [
    "import numpy as np\n",
    "print(np.__version__)"
   ]
  },
  {
   "cell_type": "markdown",
   "id": "5a3c4d39",
   "metadata": {},
   "source": [
    "## Numpy operation for 1D array"
   ]
  },
  {
   "cell_type": "code",
   "execution_count": null,
   "id": "c80fbb9b",
   "metadata": {},
   "outputs": [],
   "source": [
    "import numpy as np\n",
    "\n",
    "#1D Array\n",
    "arr=[1,2,3,4,5,6]\n",
    "print(\"original array=\",arr)\n",
    "a=np.array(arr)\n",
    "print(\"np array=\",a)\n",
    "print('-'*100)\n",
    "\n",
    "\n",
    "#For 1d arrays np.shape returns(x,) it is nto coneventional shape format np.shape=(x,) x means indicating for 1 diemnsional arrays\n",
    "print(\"np array shape=\",a.shape)\n",
    "print('-'*100)\n",
    "\n",
    "print(\"np array size=\",a.size)\n",
    "print('-'*100)\n",
    "\n",
    "print(\"np array type=\",type(a))\n",
    "print('-'*100)\n",
    "\n",
    "#To iterate around  a array\n",
    "for i  in range(a.size):\n",
    "    print(\"the elements in the np array=\",a[i])\n",
    "    print('-'*100)\n",
    "\n",
    "\n",
    "#Slicinng opeartions\n",
    "arr = np.array([1, 2, 3, 4, 5, 6, 7])\n",
    "print(\"given array\",arr)\n",
    "#To verify some basic operation for the slicing\n",
    "#To Slice elements from index 4 to the end of the array:\n",
    "print(arr[4:])\n",
    "#Slice elements from the beginning to index 4 (not included):\n",
    "print(arr[:4])"
   ]
  },
  {
   "cell_type": "markdown",
   "id": "c876932c",
   "metadata": {},
   "source": [
    "## Numpy operations on 2D arrays"
   ]
  },
  {
   "cell_type": "code",
   "execution_count": null,
   "id": "c7e793e1",
   "metadata": {},
   "outputs": [],
   "source": [
    "import numpy as np\n",
    "\n",
    "arr=[[1,2,3],[4,5,6]]\n",
    "print(\"array in orignal from=\",arr)\n",
    "print('-'*100)\n",
    "print(\"the first element in arr=\",arr[0])\n",
    "print('-'*100)\n",
    "print(\"the second element in arr=\",arr[1])\n",
    "print('-'*100)\n",
    "print(\"the first sample in first element=\",arr[0][0])\n",
    "print('-'*100)\n",
    "\n",
    "a=np.array(arr)\n",
    "print(\"in np array=\",a)\n",
    "print('-'*100)\n",
    "print(\"np array shape=\",a.shape)\n",
    "print('-'*100)\n",
    "print(\"np array size=\",a.size)\n",
    "print('-'*100)\n",
    "\n",
    "#Indexing 2d arrays using conevntional method\n",
    "for i in range(a.shape[0]):\n",
    "    for j in range(a.shape[1]):\n",
    "        print(a[i][j])\n",
    "        print('-'*100)\n",
    "        \n",
    "#Indexing 2d arrays in numpy style\n",
    "for i in range(a.shape[0]):\n",
    "    for j in range(a.shape[1]):\n",
    "        print(a[i,j])\n",
    "        print('-'*100)\n",
    "\n",
    "\n",
    "#axis=0 runs vertically,#axis=1 runs horizontally acrossss numpy arrays\n",
    "print(\"sum of np array with axis=0\",np.sum(a,axis=0))\n",
    "print('-'*100)\n",
    "print(\"sum of np array with axis=1\",np.sum(a,axis=1))\n",
    "print('-'*100)\n",
    "\n",
    "\n",
    "#Slciing operations in 2d arrays\n",
    "arr = np.array([[1, 2, 3, 4, 5], [6, 7, 8, 9, 10]])\n",
    "print(arr)\n",
    "print('-'*100)\n",
    "#a[i,j] i represents row and j represents column\n",
    "#Slice first row until 3r columsn included\n",
    "print(arr[0,0:4])\n",
    "print('-'*100)"
   ]
  },
  {
   "cell_type": "markdown",
   "id": "6d4a3cbe",
   "metadata": {},
   "source": [
    "## Numpy operations on 3D Arrays"
   ]
  },
  {
   "cell_type": "code",
   "execution_count": null,
   "id": "0ebf9335",
   "metadata": {},
   "outputs": [],
   "source": [
    "import numpy as np\n",
    "\n",
    "\n",
    "\n",
    "arr = np.array([[[1, 2, 3], [4, 5, 6]], [[7, 8, 9], [10, 11, 12]]])\n",
    "print(\"np 3 d array=\",arr)\n",
    "\n",
    "#Basic opeartions np.shape, np.size \n",
    "a=np.array(arr)\n",
    "print(\"np array=\",a)\n",
    "print('-'*100)\n",
    "\n",
    "#np.shape for 3d array providess contains no_of_layers, no of_rows, and no of_columns.\n",
    "print(\"np array shape conatins no_of_layers, no of_rows, and no of_columns.=\",a.shape)\n",
    "print('-'*100)\n",
    "\n",
    "print(\"np array size=\",a.size)\n",
    "print('-'*100)\n",
    "\n",
    "\n",
    "#Basic Indexing:\n",
    "print(\"first layer of 3d array=\",a[0])\n",
    "print('-'*100)\n",
    "print(\"second layer of 3d array=\",a[1])\n",
    "print('-'*100)\n",
    "\n",
    "\n",
    "\n",
    "#Indexing eleemnst in for 3d arrays:\n",
    "for i in range(a.shape[0]):                    #a.shape[0]= no_of_layers\n",
    "    for j in range(a.shape[1]):                #a.shape[1]= no_of_rows\n",
    "        for k in range(a.shape[2]):            #a.shape[2]= no_of_columns\n",
    "            print(a[i,j,k])\n",
    "            print('-'*100)\n",
    "\n",
    "\n",
    "            \n",
    "\n",
    "#Slcing opeartions, #a[i,j,k] i-no of layers, j- no of rows, k- no of columns\n",
    "arr = np.array([[[1, 2, 3], [4, 5, 6]], [[7, 8, 9], [10, 11, 12]]])\n",
    "print(arr)\n",
    "print('-'*100)\n",
    "\n",
    "\n",
    "#Slice 1 st layer 1,2,4,5 elements\n",
    "print(arr[0,0:,0:2])\n",
    "print('-'*100)\n"
   ]
  },
  {
   "cell_type": "markdown",
   "id": "b436e258",
   "metadata": {},
   "source": [
    "## Concatenation operation on np arrays"
   ]
  },
  {
   "cell_type": "code",
   "execution_count": null,
   "id": "cd5e940e",
   "metadata": {},
   "outputs": [],
   "source": [
    "import numpy as np\n",
    "\n",
    "#Basic array definition\n",
    "arr1 = np.array([1, 2, 3])\n",
    "arr2 = np.array([4, 5, 6])\n",
    "arr = np.concatenate((arr1, arr2))\n",
    "print(\"concatenated array=\",arr)\n",
    "print('-'*100)\n",
    "\n",
    "#concatenate along axis=0 (running vertically)\n",
    "arr1 = np.array([[1, 2], [3, 4]])\n",
    "arr2 = np.array([[5, 6], [7, 8]])\n",
    "arr = np.concatenate((arr1, arr2),axis=0)\n",
    "print(\"concateantion along axis 0=\",arr)\n",
    "print('-'*100)\n",
    "\n",
    "#concatenate along axis=1\n",
    "arr1 = np.array([[1, 2], [3, 4]])\n",
    "arr2 = np.array([[5, 6], [7, 8]])\n",
    "arr = np.concatenate((arr1, arr2),axis=1)\n",
    "print(\"concateantion along axis 1=\",arr)\n",
    "print('-'*100)\n",
    "\n",
    "\n",
    "\n"
   ]
  },
  {
   "cell_type": "markdown",
   "id": "325c41b7",
   "metadata": {},
   "source": [
    "## Sorting operations for np arrays"
   ]
  },
  {
   "cell_type": "code",
   "execution_count": null,
   "id": "01a64642",
   "metadata": {},
   "outputs": [],
   "source": [
    "import numpy as np\n",
    "\n",
    "#Basic array definition\n",
    "arr = np.array([3, 2, 0, 1])\n",
    "print(\"oriignal form=\",arr)\n",
    "print('-'*100)\n",
    "print(\"soretd array=\",np.sort(arr))\n",
    "print('-'*100)\n",
    "\n",
    "\n",
    "#Using np.newaxis will increase the dimensions of your array by one dimension when used once. \n",
    "#This means that a 1D array will become a 2D array,\n",
    "a = np.array([1, 2, 3])\n",
    "print(\"original shape=\",a.shape)\n",
    "print('-'*100)\n",
    "a2 = a[np.newaxis, :]\n",
    "print(a2)\n",
    "print(\"newly added sahpe=\",a2.shape)\n",
    "print('-'*100)\n",
    "\n",
    "\n",
    "\n"
   ]
  },
  {
   "cell_type": "markdown",
   "id": "d9e84665",
   "metadata": {},
   "source": [
    "## Flatten operations for np arrays"
   ]
  },
  {
   "cell_type": "code",
   "execution_count": null,
   "id": "cfd2238b",
   "metadata": {},
   "outputs": [],
   "source": [
    "import numpy as np\n",
    "\n",
    "x = np.array([[1 , 2, 3, 4], [5, 6, 7, 8], [9, 10, 11, 12]])\n",
    "print(\"original np array=\",x)\n",
    "print('-'*100)\n",
    "print(\"falttened array=\",x.flatten())\n",
    "print('-'*100)\n"
   ]
  },
  {
   "cell_type": "markdown",
   "id": "5fcb5ac6",
   "metadata": {},
   "source": [
    "## np.zeros() for different dimensional arrays"
   ]
  },
  {
   "cell_type": "code",
   "execution_count": null,
   "id": "185da108",
   "metadata": {},
   "outputs": [],
   "source": [
    "import numpy as np\n",
    "\n",
    "z=np.zeros(1)\n",
    "print(\"1d np zeros array=\",z)\n",
    "print('-'*100)\n",
    "print(\"1d np zeros array=\",z.shape)\n",
    "print('-'*100)\n",
    "\n",
    "z=np.zeros([2,2])\n",
    "print(\"2d np zeros array=\",z)\n",
    "print('-'*100)\n",
    "print(\"2d np zeros array=\",z.shape)\n",
    "print('-'*100)\n",
    "\n",
    "z=np.zeros([4,2,2]) #x--layers, y--rows and z--columns\n",
    "print(\"3d np zeros array=\",z)\n",
    "print('-'*100)\n",
    "print(\"3d np zeros array=\",z.shape)\n",
    "print('-'*100)\n",
    "\n",
    "\n",
    "z=np.zeros([2,4,2,2]) #w--layers, x--layers, y--rows and z--columns\n",
    "print(\"4d np zeros array=\",z)\n",
    "print('-'*100)\n",
    "print(\"4d np zeros array=\",z.shape)\n",
    "print('-'*100)\n"
   ]
  },
  {
   "cell_type": "code",
   "execution_count": null,
   "id": "09f75ad0",
   "metadata": {},
   "outputs": [],
   "source": []
  },
  {
   "cell_type": "code",
   "execution_count": null,
   "id": "3c3df861",
   "metadata": {},
   "outputs": [],
   "source": []
  },
  {
   "cell_type": "code",
   "execution_count": null,
   "id": "070245e3",
   "metadata": {},
   "outputs": [],
   "source": []
  },
  {
   "cell_type": "code",
   "execution_count": null,
   "id": "ad9bafd3",
   "metadata": {},
   "outputs": [],
   "source": []
  },
  {
   "cell_type": "code",
   "execution_count": null,
   "id": "d78859ec",
   "metadata": {},
   "outputs": [],
   "source": []
  },
  {
   "cell_type": "code",
   "execution_count": null,
   "id": "3f09610f",
   "metadata": {},
   "outputs": [],
   "source": []
  },
  {
   "cell_type": "code",
   "execution_count": null,
   "id": "cf78d742",
   "metadata": {},
   "outputs": [],
   "source": []
  }
 ],
 "metadata": {
  "kernelspec": {
   "display_name": "Python 3",
   "language": "python",
   "name": "python3"
  },
  "language_info": {
   "codemirror_mode": {
    "name": "ipython",
    "version": 3
   },
   "file_extension": ".py",
   "mimetype": "text/x-python",
   "name": "python",
   "nbconvert_exporter": "python",
   "pygments_lexer": "ipython3",
   "version": "3.8.8"
  }
 },
 "nbformat": 4,
 "nbformat_minor": 5
}
